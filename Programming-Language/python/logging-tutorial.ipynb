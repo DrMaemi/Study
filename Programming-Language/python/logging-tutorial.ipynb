{
 "cells": [
  {
   "cell_type": "markdown",
   "source": [
    "# Python: logging-tutorial"
   ],
   "metadata": {}
  },
  {
   "cell_type": "markdown",
   "source": [
    "<p>\r\n",
    "\r\n",
    "본 문서는 [Python 공식 문서 - 로깅 HOWTO](https://docs.python.org/ko/3/howto/logging.html)를 참고하여 작성했습니다.</p>\r\n",
    "<p>로깅은 어떤 소프트웨어가 실행될 때 발생하는 이벤트를 추적하는 수단이다.</p>"
   ],
   "metadata": {}
  },
  {
   "cell_type": "markdown",
   "source": [
    "상황별 도구\r\n",
    "수행하려는 작업 | 작업을 위한 최상의 도구\r\n",
    ":-: | :-:\r\n",
    "일반적 사용을 위한 콘솔 출력 | `print()`\r\n",
    "프로그램 정상 작동 중 발생하는 이벤트 보고 | `logging.info()`<br>`logging.debug()`: 비교적 자세한 출력\r\n",
    "특정 실행시간 이벤트와 관련된 경고 발행 | `warning.warn()`: 문제를 피할 수 있고 경고를 제거하기 위해 응용 프로그램이 수정되어야 하는 경우<br>`logging.warning()`: 응용 프로그램을 수정하여 해결할 수는 없는 상황이지만 이벤트를 계속 주목해야 하는 경우</p>"
   ],
   "metadata": {}
  },
  {
   "cell_type": "markdown",
   "source": [
    "## 예시"
   ],
   "metadata": {}
  },
  {
   "cell_type": "markdown",
   "source": [
    "### logger 생성"
   ],
   "metadata": {}
  },
  {
   "cell_type": "code",
   "execution_count": 1,
   "source": [
    "import logging\r\n",
    "\r\n",
    "# logger 생성\r\n",
    "logger = logging.getLogger(\"name\")"
   ],
   "outputs": [],
   "metadata": {}
  },
  {
   "cell_type": "markdown",
   "source": [
    "<p>\r\n",
    "\r\n",
    "위 \"name\" 에는 String이 들어간다. 아무것도 입력하지 않는 경우 **root logger**가 생성된다.</p>\r\n",
    "<p>**root logger**는 모든 logger의 부모와 같은 존재로, 다른 모든 logger는 설정을 변화시키지 않으면 **root logger**의 자식이다. **root logger**을 바로 사용할 수 있지만, 기능과 목적에 따라 다른 logger들을 생성하는 것이 좋다.</p>"
   ],
   "metadata": {}
  },
  {
   "cell_type": "markdown",
   "source": [
    "### level 부여"
   ],
   "metadata": {}
  },
  {
   "cell_type": "code",
   "execution_count": 2,
   "source": [
    "logger.setLevel(logging.INFO)"
   ],
   "outputs": [],
   "metadata": {}
  },
  {
   "cell_type": "markdown",
   "source": [
    "<p>\r\n",
    "\r\n",
    "앞서 생성한 logger에 INFO **level**을 부여한다. 이제 이 `logger` 객체는 INFO 이상의 메세지를 출력할 수 있다.</p>\r\n",
    "<p>\r\n",
    "\r\n",
    "**level**을 소문자로 바꾸어 메서드로 사용하면 메세지를 출력할 수 있다.</p>"
   ],
   "metadata": {}
  },
  {
   "cell_type": "code",
   "execution_count": 3,
   "source": [
    "logger.info(\"Message\")"
   ],
   "outputs": [],
   "metadata": {}
  },
  {
   "cell_type": "markdown",
   "source": [
    "<p>\r\n",
    "\r\n",
    "현재 이 `logger`는 오직 console에만 메세지를 출력할 수 있다. 더욱 정교하게 만들기 위해 **handler**가 필요하다.</p>"
   ],
   "metadata": {}
  },
  {
   "cell_type": "markdown",
   "source": [
    "### handler와 formatter 설정"
   ],
   "metadata": {}
  },
  {
   "cell_type": "markdown",
   "source": [
    "<p>\r\n",
    "\r\n",
    "**handler** 객체는 log 메세지의 **level**에 따라 적절한 log 메세지를 지정된 위치에 전달(dispatch)하는 역할을 수행한다.\r\n",
    "</p>\r\n",
    "<p>\r\n",
    "\r\n",
    "logger는 **addHandler** 메서드를 통해 이러한 handler를 추가할 수 있다. **handler**는 기능과 목적에 따라 여러 개일 수 있으며, 각 **handler**는 다른 **level**과 다른 **format**을 가질 수 있다.\r\n",
    "</p>\r\n",
    "<p>\r\n",
    "\r\n",
    "**handler**의 종류는 15개 정도가 있다.\r\n",
    "종류 | 설명\r\n",
    ":-: | :-:\r\n",
    "StreamHandler | stream(console)에 메세지 전달\r\n",
    "FileHandler | File(ex: info.log)에 메세지 전달\r\n",
    "... | ...\r\n",
    "</p>\r\n",
    "<p>\r\n",
    "\r\n",
    "**handler** 객체의 **level**까지 설정했다면, 이제 이 메세지를 어떤 형식으로 출력할지 결정하는 **formatter**가 필요하다.\r\n",
    "</p>"
   ],
   "metadata": {}
  },
  {
   "cell_type": "code",
   "execution_count": 10,
   "source": [
    "logging.Formatter(\r\n",
    "    fmt = None, # 메세지 출력 형태. None일 경우 raw 메세지 출력\r\n",
    "    datefmt = None, # 날짜 출력 형태. None일 경우 '%Y-%m-%d %H:%M:%S'\r\n",
    "    style = '%' # '%', '{', '$' 중 하나. 'fmt'의 style 결정\r\n",
    ")"
   ],
   "outputs": [
    {
     "output_type": "execute_result",
     "data": {
      "text/plain": [
       "<logging.Formatter at 0x1c7f905b108>"
      ]
     },
     "metadata": {},
     "execution_count": 10
    }
   ],
   "metadata": {}
  },
  {
   "cell_type": "code",
   "execution_count": 5,
   "source": [
    "# handler 객체 생성\r\n",
    "stream_handler = logging.StreamHandler()\r\n",
    "file_handler = logging.FileHandler(filename='example.log')\r\n",
    "\r\n",
    "# formatter 객체 생성\r\n",
    "formatter = logging.Formatter(fmt=\"%(asctime)s - %(name)s - %(levelname)s - %(message)s\")\r\n",
    "\r\n",
    "# handler에 level 설정\r\n",
    "stream_handler.setLevel(logging.INFO)\r\n",
    "file_handler.setLevel(logging.DEBUG)\r\n",
    "\r\n",
    "# handler에 format 설정\r\n",
    "stream_handler.setFormatter(formatter)\r\n",
    "file_handler.setFormatter(formatter)\r\n",
    "\r\n",
    "logger.addHandler(stream_handler)\r\n",
    "logger.addHandler(file_handler)"
   ],
   "outputs": [],
   "metadata": {}
  },
  {
   "cell_type": "code",
   "execution_count": 8,
   "source": [
    "logger.debug('This message should go to the log file')\r\n",
    "logger.info('So should this')\r\n",
    "logger.warning('And this, too')\r\n",
    "logger.error('And non-ASCII stuff, too, like Øresund and Malmö')"
   ],
   "outputs": [
    {
     "output_type": "stream",
     "name": "stderr",
     "text": [
      "2021-08-19 21:04:49,765 - name - INFO - So should this\n",
      "2021-08-19 21:04:49,767 - name - WARNING - And this, too\n",
      "2021-08-19 21:04:49,769 - name - INFO - And non-ASCII stuff, too, like Øresund and Malmö\n",
      "--- Logging error ---\n",
      "Traceback (most recent call last):\n",
      "  File \"C:\\dev\\anaconda3\\envs\\test\\lib\\logging\\__init__.py\", line 1028, in emit\n",
      "    stream.write(msg + self.terminator)\n",
      "UnicodeEncodeError: 'cp949' codec can't encode character '\\xf6' in position 87: illegal multibyte sequence\n",
      "Call stack:\n",
      "  File \"C:\\dev\\anaconda3\\envs\\test\\lib\\runpy.py\", line 193, in _run_module_as_main\n",
      "    \"__main__\", mod_spec)\n",
      "  File \"C:\\dev\\anaconda3\\envs\\test\\lib\\runpy.py\", line 85, in _run_code\n",
      "    exec(code, run_globals)\n",
      "  File \"C:\\dev\\anaconda3\\envs\\test\\lib\\site-packages\\ipykernel_launcher.py\", line 16, in <module>\n",
      "    app.launch_new_instance()\n",
      "  File \"C:\\dev\\anaconda3\\envs\\test\\lib\\site-packages\\traitlets\\config\\application.py\", line 845, in launch_instance\n",
      "    app.start()\n",
      "  File \"C:\\dev\\anaconda3\\envs\\test\\lib\\site-packages\\ipykernel\\kernelapp.py\", line 612, in start\n",
      "    self.io_loop.start()\n",
      "  File \"C:\\dev\\anaconda3\\envs\\test\\lib\\site-packages\\tornado\\platform\\asyncio.py\", line 199, in start\n",
      "    self.asyncio_loop.run_forever()\n",
      "  File \"C:\\dev\\anaconda3\\envs\\test\\lib\\asyncio\\base_events.py\", line 541, in run_forever\n",
      "    self._run_once()\n",
      "  File \"C:\\dev\\anaconda3\\envs\\test\\lib\\asyncio\\base_events.py\", line 1786, in _run_once\n",
      "    handle._run()\n",
      "  File \"C:\\dev\\anaconda3\\envs\\test\\lib\\asyncio\\events.py\", line 88, in _run\n",
      "    self._context.run(self._callback, *self._args)\n",
      "  File \"C:\\dev\\anaconda3\\envs\\test\\lib\\site-packages\\tornado\\ioloop.py\", line 688, in <lambda>\n",
      "    lambda f: self._run_callback(functools.partial(callback, future))\n",
      "  File \"C:\\dev\\anaconda3\\envs\\test\\lib\\site-packages\\tornado\\ioloop.py\", line 741, in _run_callback\n",
      "    ret = callback()\n",
      "  File \"C:\\dev\\anaconda3\\envs\\test\\lib\\site-packages\\tornado\\gen.py\", line 814, in inner\n",
      "    self.ctx_run(self.run)\n",
      "  File \"C:\\dev\\anaconda3\\envs\\test\\lib\\site-packages\\tornado\\gen.py\", line 775, in run\n",
      "    yielded = self.gen.send(value)\n",
      "  File \"C:\\dev\\anaconda3\\envs\\test\\lib\\site-packages\\ipykernel\\kernelbase.py\", line 365, in process_one\n",
      "    yield gen.maybe_future(dispatch(*args))\n",
      "  File \"C:\\dev\\anaconda3\\envs\\test\\lib\\site-packages\\tornado\\gen.py\", line 234, in wrapper\n",
      "    yielded = ctx_run(next, result)\n",
      "  File \"C:\\dev\\anaconda3\\envs\\test\\lib\\site-packages\\ipykernel\\kernelbase.py\", line 268, in dispatch_shell\n",
      "    yield gen.maybe_future(handler(stream, idents, msg))\n",
      "  File \"C:\\dev\\anaconda3\\envs\\test\\lib\\site-packages\\tornado\\gen.py\", line 234, in wrapper\n",
      "    yielded = ctx_run(next, result)\n",
      "  File \"C:\\dev\\anaconda3\\envs\\test\\lib\\site-packages\\ipykernel\\kernelbase.py\", line 545, in execute_request\n",
      "    user_expressions, allow_stdin,\n",
      "  File \"C:\\dev\\anaconda3\\envs\\test\\lib\\site-packages\\tornado\\gen.py\", line 234, in wrapper\n",
      "    yielded = ctx_run(next, result)\n",
      "  File \"C:\\dev\\anaconda3\\envs\\test\\lib\\site-packages\\ipykernel\\ipkernel.py\", line 306, in do_execute\n",
      "    res = shell.run_cell(code, store_history=store_history, silent=silent)\n",
      "  File \"C:\\dev\\anaconda3\\envs\\test\\lib\\site-packages\\ipykernel\\zmqshell.py\", line 536, in run_cell\n",
      "    return super(ZMQInteractiveShell, self).run_cell(*args, **kwargs)\n",
      "  File \"C:\\dev\\anaconda3\\envs\\test\\lib\\site-packages\\IPython\\core\\interactiveshell.py\", line 2899, in run_cell\n",
      "    raw_cell, store_history, silent, shell_futures)\n",
      "  File \"C:\\dev\\anaconda3\\envs\\test\\lib\\site-packages\\IPython\\core\\interactiveshell.py\", line 2944, in _run_cell\n",
      "    return runner(coro)\n",
      "  File \"C:\\dev\\anaconda3\\envs\\test\\lib\\site-packages\\IPython\\core\\async_helpers.py\", line 68, in _pseudo_sync_runner\n",
      "    coro.send(None)\n",
      "  File \"C:\\dev\\anaconda3\\envs\\test\\lib\\site-packages\\IPython\\core\\interactiveshell.py\", line 3170, in run_cell_async\n",
      "    interactivity=interactivity, compiler=compiler, result=result)\n",
      "  File \"C:\\dev\\anaconda3\\envs\\test\\lib\\site-packages\\IPython\\core\\interactiveshell.py\", line 3361, in run_ast_nodes\n",
      "    if (await self.run_code(code, result,  async_=asy)):\n",
      "  File \"C:\\dev\\anaconda3\\envs\\test\\lib\\site-packages\\IPython\\core\\interactiveshell.py\", line 3441, in run_code\n",
      "    exec(code_obj, self.user_global_ns, self.user_ns)\n",
      "  File \"<ipython-input-8-aa5ee991891f>\", line 5, in <module>\n",
      "    logger.info('And non-ASCII stuff, too, like Øresund and Malmö')\n",
      "Message: 'And non-ASCII stuff, too, like Øresund and Malmö'\n",
      "Arguments: ()\n"
     ]
    }
   ],
   "metadata": {}
  }
 ],
 "metadata": {
  "orig_nbformat": 4,
  "language_info": {
   "name": "python",
   "version": "3.7.10",
   "mimetype": "text/x-python",
   "codemirror_mode": {
    "name": "ipython",
    "version": 3
   },
   "pygments_lexer": "ipython3",
   "nbconvert_exporter": "python",
   "file_extension": ".py"
  },
  "kernelspec": {
   "name": "python3",
   "display_name": "Python 3.7.10 64-bit ('test': conda)"
  },
  "interpreter": {
   "hash": "b791ce548661102b2732c19a2964b2ebff11bf4f453c8b3a1045a08db877914d"
  }
 },
 "nbformat": 4,
 "nbformat_minor": 2
}