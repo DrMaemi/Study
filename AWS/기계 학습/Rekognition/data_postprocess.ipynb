{
 "cells": [
  {
   "cell_type": "code",
   "execution_count": null,
   "metadata": {},
   "outputs": [],
   "source": [
    "import pandas as pd\n",
    "import json"
   ]
  },
  {
   "cell_type": "code",
   "execution_count": null,
   "metadata": {},
   "outputs": [],
   "source": [
    "with open('action.log', 'r') as f:\n",
    "    action_logs = json.load(f)\n",
    "\n",
    "with open('emotion.log', 'r') as f:\n",
    "    emotion_logs = json.load(f)"
   ]
  },
  {
   "cell_type": "code",
   "execution_count": null,
   "metadata": {},
   "outputs": [],
   "source": [
    "pivot = 0\n",
    "action_timestamps = list(action_logs.keys())\n",
    "emotion_timestamps = list(emotion_logs.keys())\n",
    "\n",
    "start = ''\n",
    "for i, emotion_timestamp in enumerate(emotion_timestamps):\n",
    "    if action_timestamps[0] <= emotion_timestamp:\n",
    "        start = i\n",
    "        break\n",
    "\n",
    "for emotion_timestamp in emotion_timestamps[start:]:\n",
    "    for k, action_timestamp in enumerate(action_timestamps[pivot:]):\n",
    "        if abs(int(action_timestamp)-int(emotion_timestamp)) < 15:\n",
    "            osizes = []\n",
    "            fsizes = []\n",
    "\n",
    "            action_log = action_logs[action_timestamp] # {obj_id: {'pos':..., 'actions':[...]}, obj_id: ...}\n",
    "            emotion_log = emotion_logs[emotion_timestamp] # [{'pos':..., 'emotions':[...]}, ...]\n",
    "\n",
    "            for obj_id, info in action_log.items():\n",
    "                l, t, r, b = info['pos']\n",
    "                size = (r-l)*(b-t)\n",
    "                osizes.append((obj_id, size))\n",
    "\n",
    "            for j, face in enumerate(emotion_log):\n",
    "                l, t, r, b = face['pos']\n",
    "                size = (r-l)*(b-t)\n",
    "                fsizes.append((j, size))\n",
    "\n",
    "            osizes.sort(key=lambda x:x[1])\n",
    "            fsizes.sort(key=lambda x:x[1])\n",
    "\n",
    "            row_nums = len(osizes)\n",
    "            col_nums = len(fsizes)\n",
    "\n",
    "            matrix = [[0]*col_nums for _ in range(row_nums)]\n",
    "\n",
    "            for i in range(row_nums):\n",
    "                l, t, r, b = action_log[osizes[i][0]]['pos']\n",
    "\n",
    "                for j in range(col_nums):\n",
    "                    fsize = fsizes[j] # (idx, size)\n",
    "                    fl, ft, fr, fb = emotion_log[fsize[0]]['pos']\n",
    "\n",
    "                    # overlapped grid\n",
    "                    ovl = max(l, fl)\n",
    "                    ovt = max(t, ft)\n",
    "                    ovr = min(r, fr)\n",
    "                    ovb = min(b, fb)\n",
    "\n",
    "                    overlapped_size = (ovr-ovl)*(ovb-ovt)\n",
    "\n",
    "                    matrix[i][j] = overlapped_size/fsize[1]\n",
    "            \n",
    "            for j in range(col_nums):\n",
    "                col = [matrix[i][j] for i in range(row_nums)]\n",
    "                overlapped_size_max = max(col)\n",
    "\n",
    "                for i, overlapped_size in enumerate(col):\n",
    "                    if overlapped_size == overlapped_size_max and j <= i:\n",
    "                        emotion_log[fsizes[j][0]]['id'] = osizes[i][0]\n",
    "                        break\n",
    "\n",
    "            pivot += k\n",
    "            break"
   ]
  }
 ],
 "metadata": {
  "language_info": {
   "name": "python"
  },
  "orig_nbformat": 4
 },
 "nbformat": 4,
 "nbformat_minor": 2
}
