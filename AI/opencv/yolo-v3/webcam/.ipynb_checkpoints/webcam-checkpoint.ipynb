{
 "cells": [
  {
   "cell_type": "markdown",
   "metadata": {},
   "source": [
    "## Using web-cam\n",
    "<p>Now can we detect object on real-time with YOLO?</p>"
   ]
  },
  {
   "cell_type": "code",
   "execution_count": null,
   "metadata": {},
   "outputs": [],
   "source": [
    "import cv2\n",
    "import numpy as np"
   ]
  },
  {
   "cell_type": "markdown",
   "metadata": {},
   "source": [
    "### Bring parameters(model)"
   ]
  },
  {
   "cell_type": "code",
   "execution_count": null,
   "metadata": {},
   "outputs": [],
   "source": [
    "model_path = \"../pre-requisites/\"\n",
    "net = cv2.dnn.readNet(model_path+\"yolov3.weights\", model_path+\"yolov3.cfg\")\n",
    "\n",
    "# YOLO network reconstruction\n",
    "classes = []\n",
    "with open(model_path+\"coco.names\", \"r\") as f:\n",
    "    classes = [line.strip() for line in f.readlines()]\n",
    "layer_names = net.getLayerNames()\n",
    "output_layers = [layer_names[i[0]-1] for i in net.getUnconnectedOutLayers()]"
   ]
  },
  {
   "cell_type": "markdown",
   "metadata": {},
   "source": [
    "### Input video stream & Do detection"
   ]
  },
  {
   "cell_type": "code",
   "execution_count": null,
   "metadata": {},
   "outputs": [],
   "source": [
    "## get web-cam signal\n",
    "VideoSignal = cv2.VideoCapture(0)\n",
    "\n",
    "while True:\n",
    "    # web-cam frames\n",
    "    ret, frame = VideoSignal.read()\n",
    "    h, w, c = frame.shape\n",
    "    \n",
    "    # input signals to YOLO\n",
    "    blob = cv2.dnn.blobFromImage(frame, 0.00392, (416, 416), (0, 0, 0), True, crop=False)\n",
    "    net.setInput(blob)\n",
    "    outs = net.forward(output_layers)"
   ]
  },
  {
   "cell_type": "markdown",
   "metadata": {},
   "source": [
    "### Output on screen"
   ]
  },
  {
   "cell_type": "code",
   "execution_count": null,
   "metadata": {},
   "outputs": [],
   "source": [
    "class_ids = []\n",
    "confidences = []\n",
    "boxes = []\n",
    "\n",
    "for out in outs:\n",
    "    for detection in out:\n",
    "        scores = detection[5:]\n",
    "        class_id = np.argmax(scores)\n",
    "        confidence = scores[class_id]\n",
    "        \n",
    "        if confidence > 0.5:\n",
    "            center_x = int(detection[0]*w)\n",
    "            center_y = int(detection[1]*h)\n",
    "            dw = int(detection[2]*w)\n",
    "            dh = int(detection[3]*h)\n",
    "            \n",
    "            # Rectangle coordinates\n",
    "            x = int(center_x - dw/2)\n",
    "            y = int(center_y - dh/2)\n",
    "            boxes.append([x, y, dw, dh])\n",
    "            confidences.append(float(confidence))\n",
    "            class_ides.append(class_id)"
   ]
  },
  {
   "cell_type": "markdown",
   "metadata": {},
   "source": [
    "### Maximum suppression"
   ]
  },
  {
   "cell_type": "code",
   "execution_count": null,
   "metadata": {},
   "outputs": [],
   "source": [
    "indexes = cv2.dnn.NMSBoxes(boxes, confidences, 0.45, 0.4)"
   ]
  },
  {
   "cell_type": "markdown",
   "metadata": {},
   "source": [
    "### 최종 도출된 경계상자와 클래스 정보를 이미지에 투영"
   ]
  },
  {
   "cell_type": "code",
   "execution_count": null,
   "metadata": {},
   "outputs": [],
   "source": [
    "for i in range(len(boxes)):\n",
    "    if i in indexes:\n",
    "        x, y, w, h = boxes[i]\n",
    "        label = str(classes[class_ids[i]])\n",
    "        score = confidences[i]\n",
    "        \n",
    "        # 경게 상자와 클래스 정보 투영\n",
    "        cv2.rectanlge(frame, (x, y), (x+w, y+h), (0, 0, 255), 5)\n",
    "        cv2.putText(frame, label, (x, y-20), cv2.FONT_ITALIC, 0.5, (255, 255, 255), 1)\n",
    "        \n",
    "cv2.imshow(\"YOLOv3\", frame)\n",
    "# 100ms마다 영상 갱신\n",
    "if cv2.waitKey(100) > 0: break"
   ]
  }
 ],
 "metadata": {
  "kernelspec": {
   "display_name": "OpenCVenv",
   "language": "python",
   "name": "opencvenv"
  },
  "language_info": {
   "codemirror_mode": {
    "name": "ipython",
    "version": 3
   },
   "file_extension": ".py",
   "mimetype": "text/x-python",
   "name": "python",
   "nbconvert_exporter": "python",
   "pygments_lexer": "ipython3",
   "version": "3.8.5"
  }
 },
 "nbformat": 4,
 "nbformat_minor": 4
}
