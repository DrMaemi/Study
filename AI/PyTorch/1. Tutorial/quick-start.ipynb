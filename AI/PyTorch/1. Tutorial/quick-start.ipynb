{
 "cells": [
  {
   "cell_type": "markdown",
   "metadata": {},
   "source": [
    "# 빠른 시작. Quick Start\n",
    "기계학습의 일반적인 작업들을 위한 API를 실행시켜본다.<br>더 자세히 알기 위해서는 각 장(section)의 링크를 참고."
   ]
  },
  {
   "cell_type": "markdown",
   "metadata": {},
   "source": [
    "## 데이터 작업\n",
    "PyTorch에는 데이터 작업을 위한 기본 요소 두 가지인<br>\n",
    "`torch.utils.data.DataLoader`<br>\n",
    "`torch.utils.data.Dataset`<br>\n",
    "이 있다.\n",
    "\n",
    "`Dataset`은 샘플과 정답을 저장하고, `DataLoader`는 `Dataset`을 반복 가능한(iterable) 객체로 감싼다."
   ]
  },
  {
   "cell_type": "code",
   "execution_count": 3,
   "metadata": {},
   "outputs": [
    {
     "name": "stderr",
     "output_type": "stream",
     "text": [
      "Matplotlib is building the font cache; this may take a moment.\n"
     ]
    }
   ],
   "source": [
    "import torch\n",
    "from torch import nn\n",
    "from torch.utils.data import DataLoader\n",
    "from torchvision import datasets\n",
    "from torchvision.transforms import ToTensor, Lambda, Compose\n",
    "import matplotlib.pyplot as plt"
   ]
  },
  {
   "cell_type": "markdown",
   "metadata": {},
   "source": [
    "PyTorch는 **TorchText**, **TorchVision**, **TorchAudio**와 같이 도메인 특화 라이브러리를 데이터셋과 함께 제공하고 있다. 이 튜토리얼에서는 TorchVision 데이터셋을 사용한다.\n",
    "\n",
    "`torchvision.datasets` 모듈은 **CIFAR**, **COCO** 등과 같은 다양한 실제 비전(vision) 데이터에 대한 Dataset을 포함하고 있다. 이 튜토리얼에서는 FasionMNIST 데이터셋을 사용한다. 모든 TorchVision Dataset은 샘플과 정답을 변경하기 위한 `transform`과 `target_transform` 두 인자를 포함한다.\n",
    "</p>"
   ]
  },
  {
   "cell_type": "code",
   "execution_count": null,
   "metadata": {},
   "outputs": [],
   "source": [
    "# 공개 데이터셋에서 학습 데이터를 내려받는다.\n",
    "training_data = datasets.FashionMNIST(\n",
    "    root='data',\n",
    "    train=True,\n",
    "    download=True,\n",
    "    transform=ToTensor(),\n",
    ")\n",
    "\n",
    "# 공개 데이터셋에서 테스트 데이터를 내려받는다.\n",
    "test_data = datasets.FashionMNIST(\n",
    "    root='data',\n",
    "    train=False,\n",
    "    download=True,\n",
    "    transform=ToTensor(),\n",
    ")"
   ]
  },
  {
   "cell_type": "markdown",
   "metadata": {},
   "source": [
    "<p>\n",
    "\n",
    "데이터셋을 `DataLoader`의 인자로 전달한다. 이는 데이터셋을 반복 가능한 객체(iterable)로 감싸고, 자동화된 배치(batch), 샘플링(sampling), 섞기(shuffle) 및 다중 프로세스로 데이터 불러오기(multiprocess data loading)를 지원한다.\n",
    "</p>\n",
    "<p>\n",
    "\n",
    "본 코드에서 배치 크기(batch size)를 64로 정의했다. 이는 데이터로더(dataloader) 객체의 각 요소가 64개의 특징(feature)과 정답(label)을 묶음(batch)로 반환함을 의미한다.\n",
    "</p>"
   ]
  },
  {
   "source": [
    "batch_size = 64\n",
    "\n",
    "# 데이터 로더를 생성한다\n",
    "train_dataloader = DataLoader(training_data, batch_size=batch_size)\n",
    "test.dataloader = DataLoader(test_data, batch_size=batch_size)\n",
    "\n",
    "for x, y in test_dataloader:\n",
    "    print(\"shape of X [N, C, H, W]: \", X.shape)\n",
    "    print(\"shape of y: \", y.shape, y.dtype)\n",
    "    break"
   ],
   "cell_type": "code",
   "metadata": {},
   "execution_count": null,
   "outputs": []
  }
 ],
 "metadata": {
  "kernelspec": {
   "name": "python3613jvsc74a57bd0363874e4b2ebc696d157d4a40bb3c89cfb5ad649b2758c9c2be83a29fa588ec6",
   "display_name": "Python 3.6.13 64-bit ('pytorch': conda)"
  },
  "language_info": {
   "codemirror_mode": {
    "name": "ipython",
    "version": 3
   },
   "file_extension": ".py",
   "mimetype": "text/x-python",
   "name": "python",
   "nbconvert_exporter": "python",
   "pygments_lexer": "ipython3",
   "version": "3.6.13"
  }
 },
 "nbformat": 4,
 "nbformat_minor": 4
}