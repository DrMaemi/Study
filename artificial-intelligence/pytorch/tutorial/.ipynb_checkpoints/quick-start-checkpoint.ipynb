{
 "cells": [
  {
   "cell_type": "markdown",
   "metadata": {},
   "source": [
    "# 빠른 시작. Quick Start\n",
    "<p>기계학습의 일반적인 작업들을 위한 API를 실행시켜본다.<br>더 자세히 알기 위해서는 각 장(section)의 링크를 참고.</p>"
   ]
  },
  {
   "cell_type": "markdown",
   "metadata": {},
   "source": [
    "## 데이터 작업\n",
    "<p>\n",
    "    \n",
    "PyTorch에는 데이터 작업을 위한 기본 요소 두 가지인<br>\n",
    "`torch.utils.data.DataLoader`<br>\n",
    "`torch.utils.data.Dataset`<br>\n",
    "이 있다.\n",
    "</p>\n",
    "<p>\n",
    "    \n",
    "`Dataset`은 샘플과 정답을 저장하고, `DataLoader`는 `Dataset`을 반복 가능한(iterable) 객체로 감싼다.\n",
    "</p>"
   ]
  },
  {
   "cell_type": "code",
   "execution_count": 3,
   "metadata": {},
   "outputs": [
    {
     "name": "stderr",
     "output_type": "stream",
     "text": [
      "Matplotlib is building the font cache; this may take a moment.\n"
     ]
    }
   ],
   "source": [
    "import torch\n",
    "from torch import nn\n",
    "from torch.utils.data import DataLoader\n",
    "from torchvision import datasets\n",
    "from torchvision.transforms import ToTensor, Lambda, Compose\n",
    "import matplotlib.pyplot as plt"
   ]
  }
 ],
 "metadata": {
  "kernelspec": {
   "display_name": "pytorch",
   "language": "python",
   "name": "pytorch"
  },
  "language_info": {
   "codemirror_mode": {
    "name": "ipython",
    "version": 3
   },
   "file_extension": ".py",
   "mimetype": "text/x-python",
   "name": "python",
   "nbconvert_exporter": "python",
   "pygments_lexer": "ipython3",
   "version": "3.6.13"
  }
 },
 "nbformat": 4,
 "nbformat_minor": 4
}
